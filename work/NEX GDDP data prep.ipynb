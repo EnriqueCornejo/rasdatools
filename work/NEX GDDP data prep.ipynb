{
 "cells": [
  {
   "cell_type": "code",
   "execution_count": 7,
   "metadata": {
    "collapsed": false
   },
   "outputs": [],
   "source": [
    "import gdal\n",
    "from osgeo import osr\n",
    "import sys\n",
    "import netCDF4\n",
    "import numpy as np\n",
    "import xarray as xr\n",
    "import os\n",
    "from itertools import groupby"
   ]
  },
  {
   "cell_type": "code",
   "execution_count": 2,
   "metadata": {
    "collapsed": false
   },
   "outputs": [
    {
     "data": {
      "text/plain": [
       "['pr_day_BCSD_historical_r1i1p1_ACCESS1-0_1991.nc',\n",
       " 'pr_day_BCSD_historical_r1i1p1_ACCESS1-0_1992.nc',\n",
       " 'pr_day_BCSD_historical_r1i1p1_ACCESS1-0_1993.nc']"
      ]
     },
     "execution_count": 2,
     "metadata": {},
     "output_type": "execute_result"
    }
   ],
   "source": [
    "filenames = list(filter(lambda x: x.endswith('.nc'), os.listdir('.')))\n",
    "filenames = filenames[0:3]\n",
    "filenames"
   ]
  },
  {
   "cell_type": "code",
   "execution_count": 31,
   "metadata": {
    "collapsed": false
   },
   "outputs": [
    {
     "name": "stdout",
     "output_type": "stream",
     "text": [
      "Processing pr_day_BCSD_historical_r1i1p1_ACCESS1-0_1991\n",
      "<xarray.Dataset>\n",
      "Dimensions:  (lat: 720, lon: 1440)\n",
      "Coordinates:\n",
      "  * lat      (lat) float32 -89.875 -89.625 -89.375 -89.125 -88.875 -88.625 ...\n",
      "  * lon      (lon) float32 0.125 0.375 0.625 0.875 1.125 1.375 1.625 1.875 ...\n",
      "Data variables:\n",
      "    pr       (lat, lon) float64 1.119e-06 1.065e-06 1.012e-06 9.582e-07 ...\n",
      "Processing pr_day_BCSD_historical_r1i1p1_ACCESS1-0_1992\n",
      "<xarray.Dataset>\n",
      "Dimensions:  (lat: 720, lon: 1440)\n",
      "Coordinates:\n",
      "  * lat      (lat) float32 -89.875 -89.625 -89.375 -89.125 -88.875 -88.625 ...\n",
      "  * lon      (lon) float32 0.125 0.375 0.625 0.875 1.125 1.375 1.625 1.875 ...\n",
      "Data variables:\n",
      "    pr       (lat, lon) float64 5.286e-07 4.666e-07 4.045e-07 3.424e-07 ...\n",
      "Processing pr_day_BCSD_historical_r1i1p1_ACCESS1-0_1993\n",
      "<xarray.Dataset>\n",
      "Dimensions:  (lat: 720, lon: 1440)\n",
      "Coordinates:\n",
      "  * lat      (lat) float32 -89.875 -89.625 -89.375 -89.125 -88.875 -88.625 ...\n",
      "  * lon      (lon) float32 0.125 0.375 0.625 0.875 1.125 1.375 1.625 1.875 ...\n",
      "Data variables:\n",
      "    pr       (lat, lon) float64 1.315e-07 1.358e-07 1.4e-07 1.443e-07 ...\n"
     ]
    }
   ],
   "source": [
    "# Averages over an axis. Can group by by season\n",
    "for filename in filenames:\n",
    "    file = xr.open_dataset(filename)\n",
    "    tag = filename.split('.')[0]\n",
    "    print('Processing ' + tag)\n",
    "    out = file.mean(dim='time')\n",
    "    print(out)"
   ]
  },
  {
   "cell_type": "code",
   "execution_count": 15,
   "metadata": {
    "collapsed": false
   },
   "outputs": [
    {
     "name": "stdout",
     "output_type": "stream",
     "text": [
      "Processing pr_day_BCSD_historical_r1i1p1_ACCESS1-0_1991\n",
      "<xarray.Dataset>\n",
      "Dimensions:  (lat: 720, lon: 1440, time: 365)\n",
      "Coordinates:\n",
      "  * time     (time) datetime64[ns] 1991-01-01T12:00:00 1991-01-02T12:00:00 ...\n",
      "  * lat      (lat) float32 -89.875 -89.625 -89.375 -89.125 -88.875 -88.625 ...\n",
      "  * lon      (lon) float32 0.125 0.375 0.625 0.875 1.125 1.375 1.625 1.875 ...\n",
      "Data variables:\n",
      "    pr       (time, lat, lon) float64 nan nan nan nan nan nan nan nan nan ...\n",
      "Processing pr_day_BCSD_historical_r1i1p1_ACCESS1-0_1992\n",
      "<xarray.Dataset>\n",
      "Dimensions:  (lat: 720, lon: 1440, time: 366)\n",
      "Coordinates:\n",
      "  * time     (time) datetime64[ns] 1992-01-01T12:00:00 1992-01-02T12:00:00 ...\n",
      "  * lat      (lat) float32 -89.875 -89.625 -89.375 -89.125 -88.875 -88.625 ...\n",
      "  * lon      (lon) float32 0.125 0.375 0.625 0.875 1.125 1.375 1.625 1.875 ...\n",
      "Data variables:\n",
      "    pr       (time, lat, lon) float64 nan nan nan nan nan nan nan nan nan ...\n",
      "Processing pr_day_BCSD_historical_r1i1p1_ACCESS1-0_1993\n",
      "<xarray.Dataset>\n",
      "Dimensions:  (lat: 720, lon: 1440, time: 365)\n",
      "Coordinates:\n",
      "  * time     (time) datetime64[ns] 1993-01-01T12:00:00 1993-01-02T12:00:00 ...\n",
      "  * lat      (lat) float32 -89.875 -89.625 -89.375 -89.125 -88.875 -88.625 ...\n",
      "  * lon      (lon) float32 0.125 0.375 0.625 0.875 1.125 1.375 1.625 1.875 ...\n",
      "Data variables:\n",
      "    pr       (time, lat, lon) float64 nan nan nan nan nan nan nan nan nan ...\n"
     ]
    }
   ],
   "source": [
    "# Rolling operations\n",
    "def consecWD(arr):\n",
    "    cwd_count = 0\n",
    "    max_count = 0\n",
    "    for val in arr:\n",
    "        if val >= 0.0000029398:\n",
    "            cwd_count = cwd_count + 1\n",
    "            if cwd_count > max_count:\n",
    "                max_count = cwd_count\n",
    "        else:\n",
    "            cwd_count = 0\n",
    "    return max_count\n",
    "    \n",
    "for filename in filenames:\n",
    "    file = xr.open_dataset(filename)\n",
    "    tag = filename.split('.')[0]\n",
    "    print('Processing ' + tag)\n",
    "    a = file.rolling(time = 3)\n",
    "    print(a.mean())\n"
   ]
  },
  {
   "cell_type": "code",
   "execution_count": 25,
   "metadata": {
    "collapsed": false
   },
   "outputs": [
    {
     "name": "stdout",
     "output_type": "stream",
     "text": [
      "Processing pr_day_BCSD_historical_r1i1p1_ACCESS1-0_1991\n",
      "<xarray.Dataset>\n",
      "Dimensions:  (lat: 720, lon: 1440)\n",
      "Coordinates:\n",
      "  * lat      (lat) float32 -89.875 -89.625 -89.375 -89.125 -88.875 -88.625 ...\n",
      "  * lon      (lon) float32 0.125 0.375 0.625 0.875 1.125 1.375 1.625 1.875 ...\n",
      "Data variables:\n",
      "    pr       (lat, lon) float64 7.833e-05 7.894e-05 7.954e-05 8.268e-05 ...\n",
      "Processing pr_day_BCSD_historical_r1i1p1_ACCESS1-0_1992\n",
      "<xarray.Dataset>\n",
      "Dimensions:  (lat: 720, lon: 1440)\n",
      "Coordinates:\n",
      "  * lat      (lat) float32 -89.875 -89.625 -89.375 -89.125 -88.875 -88.625 ...\n",
      "  * lon      (lon) float32 0.125 0.375 0.625 0.875 1.125 1.375 1.625 1.875 ...\n",
      "Data variables:\n",
      "    pr       (lat, lon) float64 6.32e-05 5.417e-05 4.514e-05 3.612e-05 ...\n",
      "Processing pr_day_BCSD_historical_r1i1p1_ACCESS1-0_1993\n",
      "<xarray.Dataset>\n",
      "Dimensions:  (lat: 720, lon: 1440)\n",
      "Coordinates:\n",
      "  * lat      (lat) float32 -89.875 -89.625 -89.375 -89.125 -88.875 -88.625 ...\n",
      "  * lon      (lon) float32 0.125 0.375 0.625 0.875 1.125 1.375 1.625 1.875 ...\n",
      "Data variables:\n",
      "    pr       (lat, lon) float64 1.564e-05 1.619e-05 1.674e-05 1.729e-05 ...\n"
     ]
    }
   ],
   "source": [
    "# NP reductions\n",
    "for filename in filenames:\n",
    "    file = xr.open_dataset(filename)\n",
    "    tag = filename.split('.')[0]\n",
    "    print('Processing ' + tag)\n",
    "    a = file.reduce(np.amax, dim='time') # Only numpy ufuncs\n",
    "    print(a)"
   ]
  },
  {
   "cell_type": "code",
   "execution_count": 34,
   "metadata": {
    "collapsed": false
   },
   "outputs": [
    {
     "name": "stdout",
     "output_type": "stream",
     "text": [
      "Processing pr_day_BCSD_historical_r1i1p1_ACCESS1-0_1991\n",
      "(1, 365, 720, 1440)\n",
      "[[[0 0 0 ..., 0 0 0]\n",
      "  [0 0 0 ..., 0 0 0]\n",
      "  [0 0 0 ..., 0 0 0]\n",
      "  ..., \n",
      "  [0 0 0 ..., 0 0 0]\n",
      "  [0 0 0 ..., 0 0 0]\n",
      "  [0 0 0 ..., 0 0 0]]]\n",
      "Processing pr_day_BCSD_historical_r1i1p1_ACCESS1-0_1992\n",
      "(1, 366, 720, 1440)\n",
      "[[[0 0 0 ..., 0 0 0]\n",
      "  [0 0 0 ..., 0 0 0]\n",
      "  [0 0 0 ..., 0 0 0]\n",
      "  ..., \n",
      "  [0 0 0 ..., 0 0 0]\n",
      "  [0 0 0 ..., 0 0 0]\n",
      "  [0 0 0 ..., 0 0 0]]]\n",
      "Processing pr_day_BCSD_historical_r1i1p1_ACCESS1-0_1993\n",
      "(1, 365, 720, 1440)\n",
      "[[[0 0 0 ..., 0 0 0]\n",
      "  [0 0 0 ..., 0 0 0]\n",
      "  [0 0 0 ..., 0 0 0]\n",
      "  ..., \n",
      "  [0 0 0 ..., 0 0 0]\n",
      "  [0 0 0 ..., 0 0 0]\n",
      "  [0 0 0 ..., 0 0 0]]]\n"
     ]
    }
   ],
   "source": [
    "# Arbitrary reductions - more expensive\n",
    "def pr2in(pr_arr):\n",
    "    return (pr_arr > 0.0005879).sum()\n",
    "\n",
    "for filename in filenames:\n",
    "    file = xr.open_dataset(filename)\n",
    "    tag = filename.split('.')[0]\n",
    "    print('Processing ' + tag)\n",
    "    a = file.to_array()\n",
    "    print(a.shape)\n",
    "    \n",
    "    b = np.apply_along_axis(pr2in, 1, a)\n",
    "    print(b)"
   ]
  },
  {
   "cell_type": "code",
   "execution_count": null,
   "metadata": {
    "collapsed": true
   },
   "outputs": [],
   "source": []
  }
 ],
 "metadata": {
  "kernelspec": {
   "display_name": "Python 3",
   "language": "python",
   "name": "python3"
  },
  "language_info": {
   "codemirror_mode": {
    "name": "ipython",
    "version": 3
   },
   "file_extension": ".py",
   "mimetype": "text/x-python",
   "name": "python",
   "nbconvert_exporter": "python",
   "pygments_lexer": "ipython3",
   "version": "3.6.0"
  }
 },
 "nbformat": 4,
 "nbformat_minor": 2
}
