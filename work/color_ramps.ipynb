{
 "cells": [
  {
   "cell_type": "code",
   "execution_count": null,
   "metadata": {
    "collapsed": true
   },
   "outputs": [],
   "source": [
    "from colour import Color\n",
    "import numpy as np"
   ]
  },
  {
   "cell_type": "markdown",
   "metadata": {},
   "source": [
    "# Color ramp generator for rasql\n",
    "Deriving images from data not in pixel form directly needs the application of a color ramp. The next function generates a color ramp between two colors, interpolating linearly.\n",
    "\n",
    "Planned for the future: quantile ramps from distributions."
   ]
  },
  {
   "cell_type": "code",
   "execution_count": null,
   "metadata": {
    "collapsed": false
   },
   "outputs": [],
   "source": [
    "def generateRamp2(col1, col2, steps, rangeMin, rangeMax):\n",
    "    ramp = Color(col1).range_to(Color(col2), steps)\n",
    "    rgbRamp = list(\n",
    "        map(lambda c: list(\n",
    "            map(lambda ve: int(ve * 255), c.rgb)), ramp)\n",
    "    )\n",
    "    linInt =  list(map(lambda x: str(\"%.2f\" % round(x, 2)), np.linspace(rangeMin, rangeMax)))\n",
    "    values = list(zip(linInt, rgbRamp))\n",
    "    \n",
    "    res_strings = list(map(lambda val: \n",
    "                    \" \".join(\n",
    "                        (\"case {0} > c.1\".format(val[0]),\n",
    "                         \"return {{red: {0}; green: {1}; blue: {2}}}\".format(val[1][0], val[1][1], val[1][2]))\n",
    "                    ),\n",
    "                    values)\n",
    "               )\n",
    "    \n",
    "    head_strings = 'image>>for c in ( iri_test ) return encode( switch case c.1 = -9999 return {red: 0; green: 0; blue: 0}'\n",
    "    tail_strings = 'default return {red: 1; green: 1; blue: 1}  , \"png\")'\n",
    "    return (head_strings + \" \".join(res_strings) + tail_strings).encode('unicode-escape').decode()\n",
    "        \n",
    "generateRamp2(\"red\", \"blue\", 100, -5, 5)\n"
   ]
  }
 ],
 "metadata": {
  "kernelspec": {
   "display_name": "Python 3",
   "language": "python",
   "name": "python3"
  },
  "language_info": {
   "codemirror_mode": {
    "name": "ipython",
    "version": 3
   },
   "file_extension": ".py",
   "mimetype": "text/x-python",
   "name": "python",
   "nbconvert_exporter": "python",
   "pygments_lexer": "ipython3",
   "version": "3.5.3"
  }
 },
 "nbformat": 4,
 "nbformat_minor": 2
}
