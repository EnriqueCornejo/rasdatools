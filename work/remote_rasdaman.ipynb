{
 "cells": [
  {
   "cell_type": "code",
   "execution_count": 3,
   "metadata": {
    "collapsed": true
   },
   "outputs": [],
   "source": [
    "import os\n",
    "import paramiko"
   ]
  },
  {
   "cell_type": "code",
   "execution_count": 7,
   "metadata": {
    "collapsed": false
   },
   "outputs": [
    {
     "name": "stdout",
     "output_type": "stream",
     "text": [
      "{'hostname': 'WRI-Rasdaman'}\n"
     ]
    }
   ],
   "source": [
    "ssh = paramiko.SSHClient()\n",
    "ssh.set_missing_host_key_policy(paramiko.AutoAddPolicy())\n",
    "\n",
    "# Get the linux config for server\n",
    "user_config_file = os.path.expanduser(\"~/.ssh/config\")\n",
    "ssh_config = paramiko.SSHConfig()\n",
    "if os.path.exists(user_config_file):\n",
    "    with open(user_config_file) as f:\n",
    "        ssh_config.parse(f)\n",
    "        \n",
    "servername = 'WRI-Rasdaman'\n",
    "user_config = ssh_config.lookup(servername)\n",
    "\n",
    "print(user_config)\n",
    "\n",
    "# ssh.connect(user_config['hostname'], username=user_config['ecornejo'], key_filename=user_config['identityfile'])\n",
    "#sftp = ssh.open_sftp()\n",
    "#sftp.get(\"/home/aliciawyy/data/test.csv\", \"/home/alice/data/test.csv\") # filename need to be specified on server\n",
    "#sftp.close()\n",
    "#ssh.close()"
   ]
  },
  {
   "cell_type": "code",
   "execution_count": null,
   "metadata": {
    "collapsed": true
   },
   "outputs": [],
   "source": []
  }
 ],
 "metadata": {
  "kernelspec": {
   "display_name": "Python 3",
   "language": "python",
   "name": "python3"
  },
  "language_info": {
   "codemirror_mode": {
    "name": "ipython",
    "version": 3
   },
   "file_extension": ".py",
   "mimetype": "text/x-python",
   "name": "python",
   "nbconvert_exporter": "python",
   "pygments_lexer": "ipython3",
   "version": "3.5.3"
  }
 },
 "nbformat": 4,
 "nbformat_minor": 2
}
